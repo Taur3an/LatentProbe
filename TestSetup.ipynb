{
 "cells": [
  {
   "cell_type": "markdown",
   "metadata": {},
   "source": [
    "# Test Setup for Adversarial Prompt Generator\n",
    "\n",
    "This notebook tests that all required dependencies are properly installed and the basic functionality works."
   ]
  },
  {
   "cell_type": "code",
   "execution_count": null,
   "metadata": {},
   "outputs": [],
   "source": [
    "# Test imports\n",
    "try:\n",
    "    import pandas as pd\n",
    "    import numpy as np\n",
    "    import json\n",
    "    import uuid\n",
    "    import datetime\n",
    "    from datasets import load_dataset\n",
    "    from sklearn.feature_extraction.text import TfidfVectorizer\n",
    "    from sklearn.cluster import KMeans\n",
    "    import openai\n",
    "    from dotenv import load_dotenv\n",
    "    print(\"✅ All imports successful!\")\n",
    "except Exception as e:\n",
    "    print(f\"❌ Import error: {e}\")"
   ]
  },
  {
   "cell_type": "code",
   "execution_count": null,
   "metadata": {},
   "outputs": [],
   "source": [
    "# Test basic functionality\n",
    "try:\n",
    "    # Test UUID generation\n",
    "    test_uuid = str(uuid.uuid4())\n",
    "    print(f\"✅ UUID generation works: {test_uuid}\")\n",
    "    \n",
    "    # Test timestamp\n",
    "    timestamp = datetime.datetime.now().isoformat()\n",
    "    print(f\"✅ Timestamp generation works: {timestamp}\")\n",
    "    \n",
    "    # Test pandas\n",
    "    df = pd.DataFrame({\"test\": [1, 2, 3]})\n",
    "    print(f\"✅ Pandas works: DataFrame shape {df.shape}\")\n",
    "    \n",
    "    # Test numpy\n",
    "    arr = np.array([1, 2, 3])\n",
    "    print(f\"✅ Numpy works: Array shape {arr.shape}\")\n",
    "    \n",
    "    # Test JSON\n",
    "    test_data = {\"id\": str(uuid.uuid4()), \"test\": \"data\"}\n",
    "    json_str = json.dumps(test_data)\n",
    "    print(f\"✅ JSON serialization works: {json_str[:30]}...\")\n",
    "    \n",
    "    print(\"\\n🎉 All basic functionality tests passed!\")\n",
    "except Exception as e:\n",
    "    print(f\"❌ Functionality test error: {e}\")"
   ]
  },
  {
   "cell_type": "markdown",
   "metadata": {},
   "source": [
    "If all tests passed, you're ready to use the main `AdversarialPromptGenerator.ipynb` notebook!"
   ]
  }
 ],
 "metadata": {
  "kernelspec": {
   "display_name": "Python 3",
   "language": "python",
   "name": "python3"
  },
  "language_info": {
   "codemirror_mode": {
    "name": "ipython",
    "version": 3
   },
   "file_extension": ".py",
   "mimetype": "text/x-python",
   "name": "python",
   "nbconvert_exporter": "python",
   "pygments_lexer": "ipython3",
   "version": "3.10.0"
  }
 },
 "nbformat": 4,
 "nbformat_minor": 4
}